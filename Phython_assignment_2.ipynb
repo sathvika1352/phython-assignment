{
  "nbformat": 4,
  "nbformat_minor": 0,
  "metadata": {
    "colab": {
      "name": "Phython assignment 2",
      "provenance": [],
      "collapsed_sections": [],
      "authorship_tag": "ABX9TyNb1J+4SHx0twIlXO+AcgyE",
      "include_colab_link": true
    },
    "kernelspec": {
      "name": "python3",
      "display_name": "Python 3"
    }
  },
  "cells": [
    {
      "cell_type": "markdown",
      "metadata": {
        "id": "view-in-github",
        "colab_type": "text"
      },
      "source": [
        "<a href=\"https://colab.research.google.com/github/sathvika1352/phython-assignment/blob/master/Phython_assignment_2.ipynb\" target=\"_parent\"><img src=\"https://colab.research.google.com/assets/colab-badge.svg\" alt=\"Open In Colab\"/></a>"
      ]
    },
    {
      "cell_type": "code",
      "metadata": {
        "id": "HeswfAXTqvPn",
        "colab_type": "code",
        "colab": {
          "base_uri": "https://localhost:8080/",
          "height": 53
        },
        "outputId": "79bb5be3-f3b9-4a96-f945-cbda91a3df45"
      },
      "source": [
        "#QUESTION 1\n",
        "year= int(input(\"Enter the year \"))\n",
        "if year%12==0:\n",
        "    print(\"monkey\")\n",
        "elif year%12==1:\n",
        "    print(\"rooster\")\n",
        "elif year%12==2:\n",
        "    print(\"dog\")\n",
        "elif year%12==3:\n",
        "    print(\"pig\")\n",
        "elif year%12==4:\n",
        "    print(\"rat\")\n",
        "elif year%12==5:\n",
        "    print(\"ox\")\n",
        "elif year%12==6:\n",
        "    print(\"tiger\")\n",
        "elif year%12==7:\n",
        "    print(\"rabbit\")\n",
        "elif year%12==8:\n",
        "    print(\"dragon\")\n",
        "elif year%12==9:\n",
        "    print(\"snake\")\n",
        "elif year%12==10:\n",
        "    print(\"horse\")\n",
        "else:\n",
        "    print(\"sheep\")"
      ],
      "execution_count": null,
      "outputs": [
        {
          "output_type": "stream",
          "text": [
            "Enter the year 12\n",
            "monkey\n"
          ],
          "name": "stdout"
        }
      ]
    },
    {
      "cell_type": "code",
      "metadata": {
        "id": "0LO-zsqlrbu2",
        "colab_type": "code",
        "colab": {
          "base_uri": "https://localhost:8080/",
          "height": 71
        },
        "outputId": "baf1b041-2390-4481-853f-871506eb575a"
      },
      "source": [
        "#QUESTION 2\n",
        "d=int(input(\"Distance to be travel\"))\n",
        "w=int(input(\"Weight of goods : \"))\n",
        "if d>=500 :\n",
        "   if w>=100 :\n",
        "      d=d*5\n",
        "      print(\"Amount to be charged : \",d)\n",
        "   elif w>=10 and w<100 :\n",
        "      d=d*6\n",
        "      print(\"Amount to be charged : \",d)\n",
        "   elif w<10 :\n",
        "     d=d*7\n",
        "     print(\"Amount to be charged : \",d)\n",
        "elif d<500 :\n",
        "  if w>=100 :\n",
        "     d=d*8\n",
        "     print(\"Amount to be charged : \",d)\n",
        "  elif w<100 :\n",
        "     d=d*5\n",
        "     print(\"Amount to be charged : \",d)\n",
        "else :\n",
        "  print(\"invalid\")"
      ],
      "execution_count": null,
      "outputs": [
        {
          "output_type": "stream",
          "text": [
            "Distance to be travel1520\n",
            "Weight of goods : 50\n",
            "Amount to be charged :  9120\n"
          ],
          "name": "stdout"
        }
      ]
    },
    {
      "cell_type": "code",
      "metadata": {
        "id": "D2caRZNSr0K4",
        "colab_type": "code",
        "colab": {
          "base_uri": "https://localhost:8080/",
          "height": 143
        },
        "outputId": "28e729f3-8dac-431e-ec05-4703e6c7d5f6"
      },
      "source": [
        "#QUESTION 3\n",
        "print(\"Stall=625\")\n",
        "print(\"Circle=750\")\n",
        "print(\"Upper_class=850\")\n",
        "print(\"Box=1000\")\n",
        "T=input(\"Type of seat \")\n",
        "P=input(\"Payment mode \")\n",
        "if T==\"Stall\":\n",
        "   if P=='Cash':\n",
        "      print(\"Cost of ticket : \",(625-((625*10)/100)))\n",
        "   elif P=='Credit':\n",
        "      print(\"Cost of ticket : \",(625-((625*10)/100)))\n",
        "elif T==\"Circle\":\n",
        "  if P=='Cash':\n",
        "     print(\"Cost of ticket : \",(750-((750*10)/100)))\n",
        "  elif P=='Credit':\n",
        "     print(\"Cost of ticket : \",(750-((750*10)/100)))\n",
        "elif T==\"Upper_class\":\n",
        "  if P=='Cash':\n",
        "     print(\"Cost of ticket : \",(850-((850*10)/100)))\n",
        "  elif P=='Credit':\n",
        "     print(\"Cost of ticket : \",(850-((850*10)/100)))\n",
        "elif T==\"Box\":\n",
        "  if P=='Cash':\n",
        "     print(\"Cost of ticket : \",(1000-((1000*10)/100)))\n",
        "  elif P=='Credit':\n",
        "     print(\"Cost of ticket : \",(1000-((1000*10)/100)))\n",
        "else:\n",
        "    print(\"invalid\")"
      ],
      "execution_count": null,
      "outputs": [
        {
          "output_type": "stream",
          "text": [
            "Stall=625\n",
            "Circle=750\n",
            "Upper_class=850\n",
            "Box=1000\n",
            "Type of seat Circle\n",
            "Payment mode Cash\n",
            "Cost of ticket :  675.0\n"
          ],
          "name": "stdout"
        }
      ]
    },
    {
      "cell_type": "code",
      "metadata": {
        "id": "Xw_tKjzrsbJX",
        "colab_type": "code",
        "colab": {
          "base_uri": "https://localhost:8080/",
          "height": 109
        },
        "outputId": "1e61795d-bebc-46bf-d270-1289dfddcb8c"
      },
      "source": [
        "#QUESTION 4\n",
        "M=float(input('Enter the amount of water in kilograms : '))\n",
        "initialTemperature =float(input('Enter the initial temperature of water in degree Celsius :'))\n",
        "finalTemperature=float(input('Enter the final temperature of water degree celsius :'))\n",
        "Q=M*4184*(finalTemperature - initialTemperature)\n",
        "print(f'Energy required to heat the water = {Q}joules')"
      ],
      "execution_count": null,
      "outputs": [
        {
          "output_type": "stream",
          "text": [
            "Enter the amount of water in kilograms : 20\n",
            "Enter the initial temperature of water in degree Celsius :6\n",
            "Enter the final temperature of water degree celsius :8\n",
            "Energy required to heat the water = 167360.0joules\n"
          ],
          "name": "stdout"
        }
      ]
    },
    {
      "cell_type": "code",
      "metadata": {
        "id": "BlZIPfDNtWAn",
        "colab_type": "code",
        "colab": {
          "base_uri": "https://localhost:8080/",
          "height": 53
        },
        "outputId": "d24f1c8e-4afd-45a6-bea2-7c5ab586848b"
      },
      "source": [
        "\n",
        "#QUESTION 5\n",
        "Season=input(\"Enter the season\")\n",
        "if Season==\"Winter\":\n",
        "   Print(\"December,January and February \")\n",
        "elif Season==\"Spring\":\n",
        "   print(\"March,April and May\")\n",
        "elif Season==\"Summer\":\n",
        "   print(\"June,July,August\")\n",
        "elif Season==\"Autumn\":\n",
        "   print(\"September,October,November\")\n",
        "else:\n",
        "   print(\"ntg\")"
      ],
      "execution_count": null,
      "outputs": [
        {
          "output_type": "stream",
          "text": [
            "Enter the seasonSummer\n",
            "June,July,August\n"
          ],
          "name": "stdout"
        }
      ]
    },
    {
      "cell_type": "code",
      "metadata": {
        "id": "eWnkGFNJtqhV",
        "colab_type": "code",
        "colab": {
          "base_uri": "https://localhost:8080/",
          "height": 89
        },
        "outputId": "46d06839-9776-446a-dfa4-0f0fca153cf8"
      },
      "source": [
        "#QUESTION 6\n",
        "w=float(input(\"Enter the weight in pounds\"))\n",
        "m=0.45359237*w\n",
        "h=float(input(\"Enter the height in inches\"))\n",
        "i=0.0254*h\n",
        "b=(m/(i**2))\n",
        "print(b)\n",
        "if(b<18.5):\n",
        "  print(\"Underweight\")\n",
        "elif(b>=18.5 and b<25.0):\n",
        "  print(\"Normal\")\n",
        "elif(b>=25.0 and b<30.0):\n",
        "  print(\"Overnight\")\n",
        "elif(b>=30.0):\n",
        "  print(\"Obese\")\n",
        "else:\n",
        "  print(\"nothing\")"
      ],
      "execution_count": null,
      "outputs": [
        {
          "output_type": "stream",
          "text": [
            "Enter the weight in pounds8\n",
            "Enter the height in inches12\n",
            "39.059421091064415\n",
            "Obese\n"
          ],
          "name": "stdout"
        }
      ]
    },
    {
      "cell_type": "code",
      "metadata": {
        "id": "Ir1QmEQNuBY2",
        "colab_type": "code",
        "colab": {
          "base_uri": "https://localhost:8080/",
          "height": 53
        },
        "outputId": "7a62a642-20d1-4ab6-a985-24caa384f7d0"
      },
      "source": [
        "#QUESTION 7\n",
        "i=int(input(\"Enter an integer from 100 to 1000\"))\n",
        "s=0\n",
        "while(i>0):\n",
        "    r=i%10\n",
        "    i=i//10\n",
        "    s=s+r\n",
        "print(\"Sum=\",s)"
      ],
      "execution_count": null,
      "outputs": [
        {
          "output_type": "stream",
          "text": [
            "Enter an integer from 100 to 1000754\n",
            "Sum= 16\n"
          ],
          "name": "stdout"
        }
      ]
    },
    {
      "cell_type": "code",
      "metadata": {
        "id": "KxeqlVaEuaDm",
        "colab_type": "code",
        "colab": {
          "base_uri": "https://localhost:8080/",
          "height": 125
        },
        "outputId": "1d62633f-0848-4c36-c3ae-71e592d821dd"
      },
      "source": [
        "#QUESTION 8\n",
        "for num in range(0,1000):\n",
        "    temp=num\n",
        "    sum=0\n",
        "    while temp>0:\n",
        "      digit=temp%10\n",
        "      sum=sum+digit**3\n",
        "      temp=temp//10\n",
        "    if sum==num:\n",
        "         print(num)"
      ],
      "execution_count": null,
      "outputs": [
        {
          "output_type": "stream",
          "text": [
            "0\n",
            "1\n",
            "153\n",
            "370\n",
            "371\n",
            "407\n"
          ],
          "name": "stdout"
        }
      ]
    },
    {
      "cell_type": "code",
      "metadata": {
        "id": "m3PzWLhaurxh",
        "colab_type": "code",
        "colab": {
          "base_uri": "https://localhost:8080/",
          "height": 91
        },
        "outputId": "40eec3ae-9760-44c1-d544-07c8feb34515"
      },
      "source": [
        "#QUESTION 9\n",
        "max=int(input(\"Enter last digit : \"))\n",
        "print(\"Palindrome Numbers between 1 and %d : \"%max)\n",
        "for num in range(1,max+1):\n",
        "     temp=num\n",
        "     reverse=0\n",
        "     while(temp>0):\n",
        "       reminder=temp%10\n",
        "       reverse=(reverse *10)+reminder\n",
        "       temp=temp//10\n",
        "     if(num==reverse):\n",
        "        print(\"%d \"%num, end =' ')"
      ],
      "execution_count": null,
      "outputs": [
        {
          "output_type": "stream",
          "text": [
            "Enter last digit : 1000\n",
            "Palindrome Numbers between 1 and 1000 : \n",
            "1  2  3  4  5  6  7  8  9  11  22  33  44  55  66  77  88  99  101  111  121  131  141  151  161  171  181  191  202  212  222  232  242  252  262  272  282  292  303  313  323  333  343  353  363  373  383  393  404  414  424  434  444  454  464  474  484  494  505  515  525  535  545  555  565  575  585  595  606  616  626  636  646  656  666  676  686  696  707  717  727  737  747  757  767  777  787  797  808  818  828  838  848  858  868  878  888  898  909  919  929  939  949  959  969  979  989  999  "
          ],
          "name": "stdout"
        }
      ]
    },
    {
      "cell_type": "code",
      "metadata": {
        "id": "aIm7qqK1u1s1",
        "colab_type": "code",
        "colab": {
          "base_uri": "https://localhost:8080/",
          "height": 1000
        },
        "outputId": "242183db-c061-4c5f-8fa0-db6feea69a8a"
      },
      "source": [
        "#QUESTION 10\n",
        "for i in range(1,101):\n",
        "    if i%3==0 and i%5==0:\n",
        "       print(\"fizz buzz\")\n",
        "    elif i%3==0:\n",
        "       print(\"Fizz\")\n",
        "    elif i%5==0:\n",
        "       print(\"Buzz\")\n",
        "    else:\n",
        "       print(\"---\")"
      ],
      "execution_count": null,
      "outputs": [
        {
          "output_type": "stream",
          "text": [
            "---\n",
            "---\n",
            "Fizz\n",
            "---\n",
            "Buzz\n",
            "Fizz\n",
            "---\n",
            "---\n",
            "Fizz\n",
            "Buzz\n",
            "---\n",
            "Fizz\n",
            "---\n",
            "---\n",
            "fizz buzz\n",
            "---\n",
            "---\n",
            "Fizz\n",
            "---\n",
            "Buzz\n",
            "Fizz\n",
            "---\n",
            "---\n",
            "Fizz\n",
            "Buzz\n",
            "---\n",
            "Fizz\n",
            "---\n",
            "---\n",
            "fizz buzz\n",
            "---\n",
            "---\n",
            "Fizz\n",
            "---\n",
            "Buzz\n",
            "Fizz\n",
            "---\n",
            "---\n",
            "Fizz\n",
            "Buzz\n",
            "---\n",
            "Fizz\n",
            "---\n",
            "---\n",
            "fizz buzz\n",
            "---\n",
            "---\n",
            "Fizz\n",
            "---\n",
            "Buzz\n",
            "Fizz\n",
            "---\n",
            "---\n",
            "Fizz\n",
            "Buzz\n",
            "---\n",
            "Fizz\n",
            "---\n",
            "---\n",
            "fizz buzz\n",
            "---\n",
            "---\n",
            "Fizz\n",
            "---\n",
            "Buzz\n",
            "Fizz\n",
            "---\n",
            "---\n",
            "Fizz\n",
            "Buzz\n",
            "---\n",
            "Fizz\n",
            "---\n",
            "---\n",
            "fizz buzz\n",
            "---\n",
            "---\n",
            "Fizz\n",
            "---\n",
            "Buzz\n",
            "Fizz\n",
            "---\n",
            "---\n",
            "Fizz\n",
            "Buzz\n",
            "---\n",
            "Fizz\n",
            "---\n",
            "---\n",
            "fizz buzz\n",
            "---\n",
            "---\n",
            "Fizz\n",
            "---\n",
            "Buzz\n",
            "Fizz\n",
            "---\n",
            "---\n",
            "Fizz\n",
            "Buzz\n"
          ],
          "name": "stdout"
        }
      ]
    }
  ]
}