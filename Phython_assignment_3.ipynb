{
  "nbformat": 4,
  "nbformat_minor": 0,
  "metadata": {
    "colab": {
      "name": "Phython assignment 3",
      "provenance": [],
      "authorship_tag": "ABX9TyMP3Ortt89K1iMkerS8TwKW",
      "include_colab_link": true
    },
    "kernelspec": {
      "name": "python3",
      "display_name": "Python 3"
    }
  },
  "cells": [
    {
      "cell_type": "markdown",
      "metadata": {
        "id": "view-in-github",
        "colab_type": "text"
      },
      "source": [
        "<a href=\"https://colab.research.google.com/github/sathvika1352/phython-assignment/blob/master/Phython_assignment_3.ipynb\" target=\"_parent\"><img src=\"https://colab.research.google.com/assets/colab-badge.svg\" alt=\"Open In Colab\"/></a>"
      ]
    },
    {
      "cell_type": "code",
      "metadata": {
        "id": "kO_3o2Nhw7-w",
        "colab_type": "code",
        "colab": {
          "base_uri": "https://localhost:8080/",
          "height": 89
        },
        "outputId": "a8fd014d-b904-47b4-c024-69d85bed6261"
      },
      "source": [
        "#question 1\n",
        "a=float(input(\"Enter first side value \"))\n",
        "b=float(input(\"Enter second side value \"))\n",
        "c=float(input(\"Enter third side value \"))\n",
        "s=(a+b+c)/2\n",
        "A=(s*(s-a)*(s-b)*(s-c)**0.5)\n",
        "print('Area= ',A)"
      ],
      "execution_count": 2,
      "outputs": [
        {
          "output_type": "stream",
          "text": [
            "Enter first side value 2\n",
            "Enter second side value 4\n",
            "Enter third side value 5\n",
            "Area=  20.41770830676156\n"
          ],
          "name": "stdout"
        }
      ]
    },
    {
      "cell_type": "code",
      "metadata": {
        "id": "oatM2gRTz4wM",
        "colab_type": "code",
        "colab": {
          "base_uri": "https://localhost:8080/",
          "height": 35
        },
        "outputId": "e35d7332-95d1-4f30-cc0f-f4a5c7802382"
      },
      "source": [
        "my_str='madam'\n",
        "rev_str=reversed(my_str)\n",
        "if list(my_str)==list(rev_str):\n",
        "     print(\"palindrome\")\n",
        "else:\n",
        "     print(\"not a palindrome\")"
      ],
      "execution_count": 3,
      "outputs": [
        {
          "output_type": "stream",
          "text": [
            "palindrome\n"
          ],
          "name": "stdout"
        }
      ]
    },
    {
      "cell_type": "code",
      "metadata": {
        "id": "Z8pWy5od0Ins",
        "colab_type": "code",
        "colab": {
          "base_uri": "https://localhost:8080/",
          "height": 53
        },
        "outputId": "48232094-2146-4a75-fbbb-36f55a12578d"
      },
      "source": [
        "#question 3\n",
        "year=int(input(\"Enter year: \"))\n",
        "if year%4==0:\n",
        "    print(\"leap year\")\n",
        "else:\n",
        "    print(\"not a leap year\")"
      ],
      "execution_count": 4,
      "outputs": [
        {
          "output_type": "stream",
          "text": [
            "Enter year: 2020\n",
            "leap year\n"
          ],
          "name": "stdout"
        }
      ]
    },
    {
      "cell_type": "code",
      "metadata": {
        "id": "GcQX9c7R0Rnn",
        "colab_type": "code",
        "colab": {
          "base_uri": "https://localhost:8080/",
          "height": 56
        },
        "outputId": "25a39117-d964-4c18-a393-b73964a57551"
      },
      "source": [
        "#question 4\n",
        "sen1=\"This program converts spaces into hypen\"\n",
        "sen2=sen1.replace(' ','-')\n",
        "sen2"
      ],
      "execution_count": 5,
      "outputs": [
        {
          "output_type": "execute_result",
          "data": {
            "application/vnd.google.colaboratory.intrinsic": {
              "type": "string"
            },
            "text/plain": [
              "'This-program-converts-spaces-into-hypen'"
            ]
          },
          "metadata": {
            "tags": []
          },
          "execution_count": 5
        }
      ]
    },
    {
      "cell_type": "code",
      "metadata": {
        "id": "YnjqDd6H0dK5",
        "colab_type": "code",
        "colab": {
          "base_uri": "https://localhost:8080/",
          "height": 55
        },
        "outputId": "5d6761f6-a0df-4a15-e564-7cebe1162d69"
      },
      "source": [
        "\n",
        "#question 5\n",
        "my_list=\"orange\",\"red\",\"cyan\",\"green\",\"mangeta\",\"pink\",\"white\"\n",
        "my_list=sorted(my_list)\n",
        "print(my_list)\n"
      ],
      "execution_count": 6,
      "outputs": [
        {
          "output_type": "stream",
          "text": [
            "['cyan', 'green', 'mangeta', 'orange', 'pink', 'red', 'white']\n"
          ],
          "name": "stdout"
        }
      ]
    },
    {
      "cell_type": "code",
      "metadata": {
        "id": "xDibFm6J0mUN",
        "colab_type": "code",
        "colab": {
          "base_uri": "https://localhost:8080/",
          "height": 53
        },
        "outputId": "4efa0f58-14fd-440b-c539-7bced4a7c6e2"
      },
      "source": [
        "#question 6\n",
        "salary = int(input(\"Enter total salary\"))\n",
        "if salary <= 250000 :\n",
        "   print(\"no tax\")\n",
        "elif 250001 <= salary<=500000 :\n",
        "   print(\"tax = \",salary*.05)\n",
        "elif 500001 <= salary <=750000 :\n",
        "   print(\"tax = \",salary*.10)\n",
        "elif 750001 <= salary <=1000000 :\n",
        "   print(\"tax = \",salary*.15)\n",
        "elif 1000001 <= salaryb<=1250000 :\n",
        "   print(\"tax = \", salary*.20)\n",
        "elif 1250001 <= salary <=1500000 :\n",
        "   print(\"tax= \",salary*.25)\n",
        "else :\n",
        "   print(\"tax= \",salary*.30)"
      ],
      "execution_count": 7,
      "outputs": [
        {
          "output_type": "stream",
          "text": [
            "Enter total salary750000\n",
            "tax =  75000.0\n"
          ],
          "name": "stdout"
        }
      ]
    },
    {
      "cell_type": "code",
      "metadata": {
        "id": "W5TYFWPL_Jqf",
        "colab_type": "code",
        "colab": {
          "base_uri": "https://localhost:8080/",
          "height": 89
        },
        "outputId": "70a12ae2-3188-4b3e-9096-f2354af744f9"
      },
      "source": [
        "#question 7\n",
        "l=(input(\"Enter first integer \"))\n",
        "m=(input(\"Enter second integer \"))\n",
        "n=(input(\"Enter third integer \"))\n",
        "print(l+m+n)"
      ],
      "execution_count": 11,
      "outputs": [
        {
          "output_type": "stream",
          "text": [
            "Enter first integer 11\n",
            "Enter second integer 22\n",
            "Enter third integer 33\n",
            "112233\n"
          ],
          "name": "stdout"
        }
      ]
    },
    {
      "cell_type": "code",
      "metadata": {
        "id": "xIfpG4g9_qs0",
        "colab_type": "code",
        "colab": {
          "base_uri": "https://localhost:8080/",
          "height": 107
        },
        "outputId": "83ee83a4-cbd4-4f45-c90e-f0a5bf37316a"
      },
      "source": [
        "#question 8\n",
        "D=int(input(\"Enter days\"))\n",
        "H=int(input(\"Enter hours\"))\n",
        "M=int(input(\"Enter minutes\"))\n",
        "S=int(input(\"Enter seconds\"))\n",
        "V=D*24*60*60+H*60*60+M*60+S\n",
        "print(\"Total seconds\",V)"
      ],
      "execution_count": 1,
      "outputs": [
        {
          "output_type": "stream",
          "text": [
            "Enter days2\n",
            "Enter hours4\n",
            "Enter minutes4\n",
            "Enter seconds12\n",
            "Total seconds 187452\n"
          ],
          "name": "stdout"
        }
      ]
    },
    {
      "cell_type": "code",
      "metadata": {
        "id": "6m290HbSAOiL",
        "colab_type": "code",
        "colab": {
          "base_uri": "https://localhost:8080/",
          "height": 89
        },
        "outputId": "4efe547c-7494-43d3-e8fc-ab44cfe09616"
      },
      "source": [
        "#question 9\n",
        "l=int(input(\"Enter first integer \"))\n",
        "m=int(input(\"Enter second integer \"))\n",
        "n=int(input(\"Enter third integer \"))\n",
        "p=max(l,m,n)\n",
        "q=min(l,m,n)\n",
        "v=l+m+n-p-q\n",
        "print(p,q,v)"
      ],
      "execution_count": 9,
      "outputs": [
        {
          "output_type": "stream",
          "text": [
            "Enter first integer 2\n",
            "Enter second integer 6\n",
            "Enter third integer 1\n",
            "6 1 2\n"
          ],
          "name": "stdout"
        }
      ]
    },
    {
      "cell_type": "code",
      "metadata": {
        "id": "9iPOdN8vAr2J",
        "colab_type": "code",
        "colab": {
          "base_uri": "https://localhost:8080/",
          "height": 109
        },
        "outputId": "431d00fb-ba11-4dbb-ca08-e670876f1fd5"
      },
      "source": [
        "\n",
        "#question 10\n",
        "Y=int(input(\"Enter year: \"))\n",
        "M=int(input(\"Enter month: \"))\n",
        "D=int(input(\"Enter date: \"))\n",
        "if Y%4==0:\n",
        "    leapY=True\n",
        "else:\n",
        "    leapY=False\n",
        "if M==2:\n",
        "   if leapY:\n",
        "       M_length=29\n",
        "   else:\n",
        "       M_len=28\n",
        "elif M in(4,6,9,11):\n",
        "       M_length=30\n",
        "else: \n",
        "       M_length=31\n",
        "if D<M_length:\n",
        "   D=D+1\n",
        "else:\n",
        "   D=1\n",
        "   Y+=1\n",
        "print(f\"successor date is [YYYY-MM-DD] : {Y}-{M}-{D}\")"
      ],
      "execution_count": 5,
      "outputs": [
        {
          "output_type": "stream",
          "text": [
            "Enter year: 2020\n",
            "Enter month: 7\n",
            "Enter date: 25\n",
            "successor date is [YYYY-MM-DD] : 2020-7-26\n"
          ],
          "name": "stdout"
        }
      ]
    },
    {
      "cell_type": "code",
      "metadata": {
        "id": "bWmrxB1rBJ03",
        "colab_type": "code",
        "colab": {
          "base_uri": "https://localhost:8080/",
          "height": 35
        },
        "outputId": "02b46f5e-9550-412e-b29a-8c00e4f63b73"
      },
      "source": [
        "#question 11\n",
        "def product_num(x1,x2,x3,x4,x5,x6,x7,x8):\n",
        "    return x1*x2*x3*x4*x5*x6*x7*x8\n",
        "product_num(45,3,2,89,72,1,10,7)"
      ],
      "execution_count": 1,
      "outputs": [
        {
          "output_type": "execute_result",
          "data": {
            "text/plain": [
              "121111200"
            ]
          },
          "metadata": {
            "tags": []
          },
          "execution_count": 1
        }
      ]
    },
    {
      "cell_type": "code",
      "metadata": {
        "id": "9pA8283MBY_r",
        "colab_type": "code",
        "colab": {
          "base_uri": "https://localhost:8080/",
          "height": 35
        },
        "outputId": "457dfe01-a0b0-4e42-86b2-197249e5cec8"
      },
      "source": [
        "#question 12\n",
        "def Num_list(x1,x2,x3,x4,x5,x6):\n",
        "     return x1+x2,x2+x3,x3+x4,x4+x5,x5+x6\n",
        "Num_list(5,6,8,34,89,1)"
      ],
      "execution_count": 2,
      "outputs": [
        {
          "output_type": "execute_result",
          "data": {
            "text/plain": [
              "(11, 14, 42, 123, 90)"
            ]
          },
          "metadata": {
            "tags": []
          },
          "execution_count": 2
        }
      ]
    },
    {
      "cell_type": "code",
      "metadata": {
        "id": "rhyjxf-7Bf6n",
        "colab_type": "code",
        "colab": {
          "base_uri": "https://localhost:8080/",
          "height": 35
        },
        "outputId": "451e6809-1617-470a-8fd3-fcb2032182e5"
      },
      "source": [
        "#question 13\n",
        "def Num_tuple(x1,x2,x3,x4,x5,x6):\n",
        "     return x1,x1*x2,x1*x2*x3,x1*x2*x3*x4,x1*x2*x3*x4*x5,x1*x2*x3*x4*x5*x6\n",
        "Num_tuple(5,6,8,3,9,1)"
      ],
      "execution_count": 3,
      "outputs": [
        {
          "output_type": "execute_result",
          "data": {
            "text/plain": [
              "(5, 30, 240, 720, 6480, 6480)"
            ]
          },
          "metadata": {
            "tags": []
          },
          "execution_count": 3
        }
      ]
    },
    {
      "cell_type": "code",
      "metadata": {
        "id": "iqKKWVlfBnZD",
        "colab_type": "code",
        "colab": {
          "base_uri": "https://localhost:8080/",
          "height": 53
        },
        "outputId": "deeed1c7-495b-43b2-adda-0988e9786282"
      },
      "source": [
        "#question 14\n",
        "a=int(input(\"Enter the number \"))\n",
        "newlist=[]\n",
        "b=0\n",
        "while a>0 :\n",
        "    x=a%10\n",
        "    a=a//10\n",
        "    b=b*10+x\n",
        "while b>0 :\n",
        "    x=b%10\n",
        "    b=b//10\n",
        "    newlist.append(x)\n",
        "print(newlist)"
      ],
      "execution_count": 4,
      "outputs": [
        {
          "output_type": "stream",
          "text": [
            "Enter the number 307981\n",
            "[3, 0, 7, 9, 8, 1]\n"
          ],
          "name": "stdout"
        }
      ]
    },
    {
      "cell_type": "code",
      "metadata": {
        "id": "Ms9yBOrlBwRp",
        "colab_type": "code",
        "colab": {
          "base_uri": "https://localhost:8080/",
          "height": 53
        },
        "outputId": "1a671a6f-7d9f-4a4a-9c90-3b6ad19e36c8"
      },
      "source": [
        "#question 15\n",
        "q=input(\"Enter a palindrome \")\n",
        "list1=[]\n",
        "list2=[]\n",
        "index=0\n",
        "for i in range(0,len(q)-1):\n",
        "   for j in range(i+1,len(q)+1):\n",
        "       if j-i>1:\n",
        "          p=q[i:j]\n",
        "          if (p==p[::-1]):\n",
        "             list1.append(q[i:j])\n",
        "             list2.append(len(q[i:j]))\n",
        "maximum=max(list2)\n",
        "for i in list2:\n",
        "    if i==maximum:\n",
        "       print(list1[index])\n",
        "    else:\n",
        "       index=index+1"
      ],
      "execution_count": 6,
      "outputs": [
        {
          "output_type": "stream",
          "text": [
            "Enter a palindrome madam\n",
            "madam\n"
          ],
          "name": "stdout"
        }
      ]
    },
    {
      "cell_type": "code",
      "metadata": {
        "id": "nqy0GK85CFKS",
        "colab_type": "code",
        "colab": {
          "base_uri": "https://localhost:8080/",
          "height": 91
        },
        "outputId": "fdcb21f2-78f9-4291-8f3c-4955db630c70"
      },
      "source": [
        "\n",
        "#question 16\n",
        "p=input(\"Enter the binary number of length 10 \")\n",
        "q=input(\"Enter the binary number of length 5 \")\n",
        "if q[:] in p[:] :\n",
        "    print (1)\n",
        "else:\n",
        "    print (0)"
      ],
      "execution_count": 7,
      "outputs": [
        {
          "output_type": "stream",
          "text": [
            "Enter the binary number of length 10 1010011010101\n",
            "Enter the binary number of length 5 0101\n",
            "1\n"
          ],
          "name": "stdout"
        }
      ]
    }
  ]
}